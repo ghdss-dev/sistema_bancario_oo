{
 "cells": [
  {
   "cell_type": "code",
   "execution_count": 1,
   "id": "0d8d194b",
   "metadata": {},
   "outputs": [
    {
     "name": "stdout",
     "output_type": "stream",
     "text": [
      "Saldo atual de Gustavo Henrique: R$1000.00\n",
      "Depósito de R$500.00 realizado com sucesso!\n",
      "Saldo atual de Gustavo Henrique: R$1500.00\n",
      "Saque de R$300.00 realizado com sucesso!\n",
      "Saldo atual de Gustavo Henrique: R$1200.00\n",
      "Saldo insuficiente ou valor de saque inválido.\n"
     ]
    }
   ],
   "source": [
    "class ContaBancaria:\n",
    "    def __init__(self, titular, saldo_inicial=0):\n",
    "        self.titular = titular\n",
    "        self.saldo = saldo_inicial\n",
    "\n",
    "    def depositar(self, valor):\n",
    "        if valor > 0:\n",
    "            self.saldo += valor\n",
    "            print(f\"Depósito de R${valor:.2f} realizado com sucesso!\")\n",
    "        else:\n",
    "            print(\"O valor de depósito deve ser positivo.\")\n",
    "\n",
    "    def sacar(self, valor):\n",
    "        if 0 < valor <= self.saldo:\n",
    "            self.saldo -= valor\n",
    "            print(f\"Saque de R${valor:.2f} realizado com sucesso!\")\n",
    "        else:\n",
    "            print(\"Saldo insuficiente ou valor de saque inválido.\")\n",
    "\n",
    "    def ver_saldo(self):\n",
    "        print(f\"Saldo atual de {self.titular}: R${self.saldo:.2f}\")\n",
    "\n",
    "# Exemplo de uso do sistema bancário\n",
    "conta1 = ContaBancaria(\"Gustavo Henrique\", 1000)\n",
    "conta1.ver_saldo()\n",
    "\n",
    "conta1.depositar(500)\n",
    "conta1.ver_saldo()\n",
    "\n",
    "conta1.sacar(300)\n",
    "conta1.ver_saldo()\n",
    "\n",
    "conta1.sacar(1500)  # Testando saque com valor maior que o saldo\n"
   ]
  },
  {
   "cell_type": "code",
   "execution_count": null,
   "id": "b9101777",
   "metadata": {},
   "outputs": [],
   "source": []
  }
 ],
 "metadata": {
  "kernelspec": {
   "display_name": "Python 3 (ipykernel)",
   "language": "python",
   "name": "python3"
  },
  "language_info": {
   "codemirror_mode": {
    "name": "ipython",
    "version": 3
   },
   "file_extension": ".py",
   "mimetype": "text/x-python",
   "name": "python",
   "nbconvert_exporter": "python",
   "pygments_lexer": "ipython3",
   "version": "3.9.13"
  }
 },
 "nbformat": 4,
 "nbformat_minor": 5
}
